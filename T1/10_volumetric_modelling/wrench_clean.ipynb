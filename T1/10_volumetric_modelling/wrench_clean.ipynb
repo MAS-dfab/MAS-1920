{
 "cells": [
  {
   "cell_type": "code",
   "execution_count": 1,
   "metadata": {},
   "outputs": [],
   "source": [
    "import ipyvolume as ipv\n",
    "import numpy as np\n",
    "\n",
    "from compas_vol.primitives import VolBox, VolPlane, VolCylinder\n",
    "from compas_vol.microstructures import TPMS\n",
    "from compas.geometry import Box, Frame, Point, Plane, Cylinder, Circle\n",
    "from compas_vol.combinations import Intersection, Union, Subtraction\n",
    "from compas_vol.modifications import Overlay, Shell"
   ]
  },
  {
   "cell_type": "code",
   "execution_count": 2,
   "metadata": {},
   "outputs": [],
   "source": [
    "vbox = VolBox(Box(Frame.worldXY(), 250, 30, 10), 1.5)"
   ]
  },
  {
   "cell_type": "code",
   "execution_count": 3,
   "metadata": {},
   "outputs": [],
   "source": [
    "cyl = VolCylinder(Cylinder(Circle(Plane((125,0,0),(0,0,1)), 15), 10))\n",
    "cbu = Union(vbox, cyl)"
   ]
  },
  {
   "cell_type": "code",
   "execution_count": 4,
   "metadata": {},
   "outputs": [],
   "source": [
    "rx, ry, rz = np.ogrid[-130:145:550j, -16:16:64j, -8:8:32j]"
   ]
  },
  {
   "cell_type": "code",
   "execution_count": 5,
   "metadata": {},
   "outputs": [],
   "source": [
    "dm = vbox.get_distance_numpy(rx, ry, rz)"
   ]
  },
  {
   "cell_type": "code",
   "execution_count": 8,
   "metadata": {
    "scrolled": false
   },
   "outputs": [
    {
     "data": {
      "application/vnd.jupyter.widget-view+json": {
       "model_id": "5cc9f075bde541e195c7af01436fed7b",
       "version_major": 2,
       "version_minor": 0
      },
      "text/plain": [
       "VBox(children=(Figure(camera=PerspectiveCamera(fov=46.0, position=(0.0, 0.0, 2.0), quaternion=(0.0, 0.0, 0.0, …"
      ]
     },
     "metadata": {},
     "output_type": "display_data"
    }
   ],
   "source": [
    "ipv.figure(width=800, height=450)\n",
    "mesh = ipv.plot_isosurface(dm, 0.0, extent=[[-130,145], [-16,16], [-8,8]], color='white')\n",
    "ipv.xyzlim(145)\n",
    "ipv.style.use('minimal')\n",
    "ipv.show()"
   ]
  },
  {
   "cell_type": "code",
   "execution_count": 9,
   "metadata": {},
   "outputs": [],
   "source": [
    "gyroid = TPMS(tpmstype='Gyroid', wavelength=5.0)\n",
    "shell = Shell(gyroid, 2.0, 0.5)\n",
    "vplane = VolPlane(Plane((0,0,0), (1,0,0)))\n",
    "overlay = Overlay(shell, vplane, 0.005)\n",
    "ovo = Overlay(cbu, vplane, -0.01)\n",
    "intersection = Intersection(overlay, ovo)\n",
    "co = VolCylinder(Cylinder(Circle(Plane((125,0,0),(0,0,1)), 12), 13))\n",
    "ci = VolCylinder(Cylinder(Circle(Plane((125,0,0),(0,0,1)), 10), 20))\n",
    "add = Union(intersection, co)\n",
    "hole = Subtraction(add, ci)"
   ]
  },
  {
   "cell_type": "code",
   "execution_count": 10,
   "metadata": {},
   "outputs": [],
   "source": [
    "dm = hole.get_distance_numpy(rx, ry, rz)"
   ]
  },
  {
   "cell_type": "code",
   "execution_count": 11,
   "metadata": {},
   "outputs": [
    {
     "data": {
      "application/vnd.jupyter.widget-view+json": {
       "model_id": "2d9ba57400b94c0faba3f5d3375c37ee",
       "version_major": 2,
       "version_minor": 0
      },
      "text/plain": [
       "VBox(children=(Figure(camera=PerspectiveCamera(fov=46.0, position=(0.0, 0.0, 2.0), quaternion=(0.0, 0.0, 0.0, …"
      ]
     },
     "metadata": {},
     "output_type": "display_data"
    }
   ],
   "source": [
    "ipv.figure(width=800, height=450)\n",
    "mesh = ipv.plot_isosurface(dm, 0.0, extent=[[-130,145], [-16,16], [-8,8]], color='white')\n",
    "ipv.xyzlim(145)\n",
    "ipv.style.use('minimal')\n",
    "ipv.show()"
   ]
  },
  {
   "cell_type": "code",
   "execution_count": 27,
   "metadata": {},
   "outputs": [],
   "source": [
    "from compas_vol.utilities import export_ipv_mesh\n",
    "export_ipv_mesh(mesh, 'handle2.obj')"
   ]
  },
  {
   "cell_type": "code",
   "execution_count": null,
   "metadata": {},
   "outputs": [],
   "source": []
  }
 ],
 "metadata": {
  "kernelspec": {
   "display_name": "Python 3",
   "language": "python",
   "name": "python3"
  },
  "language_info": {
   "codemirror_mode": {
    "name": "ipython",
    "version": 3
   },
   "file_extension": ".py",
   "mimetype": "text/x-python",
   "name": "python",
   "nbconvert_exporter": "python",
   "pygments_lexer": "ipython3",
   "version": "3.6.7"
  }
 },
 "nbformat": 4,
 "nbformat_minor": 2
}
