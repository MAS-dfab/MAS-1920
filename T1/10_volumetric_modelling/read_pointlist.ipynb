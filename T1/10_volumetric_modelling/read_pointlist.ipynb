{
 "cells": [
  {
   "cell_type": "code",
   "execution_count": 1,
   "metadata": {},
   "outputs": [],
   "source": [
    "with open('centerpoints.txt','r') as f:\n",
    "    lns = f.readlines()"
   ]
  },
  {
   "cell_type": "code",
   "execution_count": 2,
   "metadata": {},
   "outputs": [
    {
     "data": {
      "text/plain": [
       "['{-5.026628, -7.78512, -0.659786}\\n',\n",
       " '{7.129296, 5.47408, -8.223062}\\n',\n",
       " '{-8.07991, 9.033797, -0.348241}\\n',\n",
       " '{7.223415, 8.903673, 9.440994}\\n',\n",
       " '{7.366311, -9.746285, 9.279809}\\n',\n",
       " '{-7.958706, 0.201654, -9.69951}\\n',\n",
       " '{7.843042, -7.813134, -5.799009}\\n',\n",
       " '{-2.319955, 1.250136, 8.317788}\\n',\n",
       " '{-9.974646, -8.142126, 9.698447}\\n',\n",
       " '{-0.11778, 3.042869, -0.542596}\\n',\n",
       " '{9.793856, 0.377143, -1.117613}']"
      ]
     },
     "execution_count": 2,
     "metadata": {},
     "output_type": "execute_result"
    }
   ],
   "source": [
    "lns"
   ]
  },
  {
   "cell_type": "code",
   "execution_count": 15,
   "metadata": {},
   "outputs": [],
   "source": [
    "from compas_vol.primitives import VolSphere, VolCylinder\n",
    "from compas_vol.combinations import Union\n",
    "from compas.geometry import Sphere, Cylinder, Point"
   ]
  },
  {
   "cell_type": "code",
   "execution_count": 7,
   "metadata": {},
   "outputs": [],
   "source": [
    "import ipyvolume as ipv"
   ]
  },
  {
   "cell_type": "code",
   "execution_count": 14,
   "metadata": {},
   "outputs": [],
   "source": [
    "spheres = []\n",
    "for l in lns:\n",
    "    values = l[1:-2].split(',')\n",
    "    coords = [float(v.strip()) for v in values]\n",
    "    #print(len(coords))\n",
    "    s = VolSphere(Sphere(coords, 4))\n",
    "    spheres.append(s)"
   ]
  },
  {
   "cell_type": "code",
   "execution_count": null,
   "metadata": {},
   "outputs": [],
   "source": []
  }
 ],
 "metadata": {
  "kernelspec": {
   "display_name": "Python 3",
   "language": "python",
   "name": "python3"
  },
  "language_info": {
   "codemirror_mode": {
    "name": "ipython",
    "version": 3
   },
   "file_extension": ".py",
   "mimetype": "text/x-python",
   "name": "python",
   "nbconvert_exporter": "python",
   "pygments_lexer": "ipython3",
   "version": "3.6.7"
  }
 },
 "nbformat": 4,
 "nbformat_minor": 2
}
