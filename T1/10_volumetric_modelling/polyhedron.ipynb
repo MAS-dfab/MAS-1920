{
 "cells": [
  {
   "cell_type": "code",
   "execution_count": 2,
   "metadata": {},
   "outputs": [],
   "source": [
    "import ipyvolume as ipv\n",
    "import numpy as np"
   ]
  },
  {
   "cell_type": "code",
   "execution_count": 3,
   "metadata": {},
   "outputs": [],
   "source": [
    "from compas_vol.primitives import VolPolyhedron, VolPlane"
   ]
  },
  {
   "cell_type": "code",
   "execution_count": 4,
   "metadata": {},
   "outputs": [],
   "source": [
    "from compas_vol.utilities import get_random_vector_3D"
   ]
  },
  {
   "cell_type": "code",
   "execution_count": 10,
   "metadata": {},
   "outputs": [],
   "source": [
    "from compas.geometry import Plane"
   ]
  },
  {
   "cell_type": "code",
   "execution_count": 27,
   "metadata": {},
   "outputs": [],
   "source": [
    "planes = []\n",
    "radius = 10\n",
    "for i in range(50):\n",
    "    v = get_random_vector_3D()\n",
    "    vp = VolPlane(Plane((radius*-v[0],radius*-v[1],radius*-v[2]), v))\n",
    "    planes.append(vp)\n",
    "polyhedron = VolPolyhedron(planes)"
   ]
  },
  {
   "cell_type": "code",
   "execution_count": 5,
   "metadata": {},
   "outputs": [],
   "source": [
    "from utils import whiteboard as wb"
   ]
  },
  {
   "cell_type": "code",
   "execution_count": 8,
   "metadata": {},
   "outputs": [],
   "source": [
    "rx, ry, rz = np.ogrid[-15:15:100j, -15:15:100j, -15:15:100j]"
   ]
  },
  {
   "cell_type": "code",
   "execution_count": 30,
   "metadata": {},
   "outputs": [],
   "source": [
    "dmp = polyhedron.get_distance_numpy(rx, ry, rz)"
   ]
  },
  {
   "cell_type": "code",
   "execution_count": 29,
   "metadata": {},
   "outputs": [
    {
     "data": {
      "application/vnd.jupyter.widget-view+json": {
       "model_id": "e89bc1b40caa471298de75935e71c462",
       "version_major": 2,
       "version_minor": 0
      },
      "text/plain": [
       "VBox(children=(Figure(camera=PerspectiveCamera(fov=46.0, position=(0.0, 0.0, 2.0), quaternion=(0.0, 0.0, 0.0, …"
      ]
     },
     "metadata": {},
     "output_type": "display_data"
    }
   ],
   "source": [
    "ipv.figure(width=800, height=450)\n",
    "mesh = ipv.plot_isosurface(dm, 0.0, color='white')\n",
    "ipv.style.use('minimal')\n",
    "ipv.show()"
   ]
  },
  {
   "cell_type": "code",
   "execution_count": 14,
   "metadata": {},
   "outputs": [
    {
     "data": {
      "text/plain": [
       "(-35.475428923204944, -10.198073046577374)"
      ]
     },
     "execution_count": 14,
     "metadata": {},
     "output_type": "execute_result"
    }
   ],
   "source": [
    "dm.min(), dm.max()"
   ]
  },
  {
   "cell_type": "code",
   "execution_count": 39,
   "metadata": {},
   "outputs": [],
   "source": [
    "import math\n",
    "a = math.pi*2/7\n",
    "nut = []\n",
    "radius = 8\n",
    "for i in range(7):\n",
    "    x = 3+radius * math.cos(i*a)\n",
    "    y = radius * math.sin(i*a)\n",
    "    vp = VolPlane(Plane((-x,-y,0),(x,y,0)))\n",
    "    nut.append(vp)\n",
    "nut.append(VolPlane(Plane((0,0,-radius), (0,0,1))))\n",
    "nut.append(VolPlane(Plane((0,0, radius), (0,0,-1))))\n",
    "ph = VolPolyhedron(nut)\n",
    "dm = ph.get_distance_numpy(rx, ry, rz)"
   ]
  },
  {
   "cell_type": "code",
   "execution_count": 40,
   "metadata": {},
   "outputs": [
    {
     "data": {
      "application/vnd.jupyter.widget-view+json": {
       "model_id": "c341d49e327a407f94c47a55c86a8b81",
       "version_major": 2,
       "version_minor": 0
      },
      "text/plain": [
       "VBox(children=(Figure(camera=PerspectiveCamera(fov=46.0, position=(0.0, 0.0, 2.0), quaternion=(0.0, 0.0, 0.0, …"
      ]
     },
     "metadata": {},
     "output_type": "display_data"
    }
   ],
   "source": [
    "ipv.figure(width=800, height=450)\n",
    "mesh = ipv.plot_isosurface(dm, 0.0, color='white')\n",
    "mesh2 = ipv.plot_isosurface(dmp, 0.0, color='pink')\n",
    "\n",
    "ipv.style.use('minimal')\n",
    "ipv.show()"
   ]
  },
  {
   "cell_type": "code",
   "execution_count": null,
   "metadata": {},
   "outputs": [],
   "source": []
  }
 ],
 "metadata": {
  "kernelspec": {
   "display_name": "Python 3",
   "language": "python",
   "name": "python3"
  },
  "language_info": {
   "codemirror_mode": {
    "name": "ipython",
    "version": 3
   },
   "file_extension": ".py",
   "mimetype": "text/x-python",
   "name": "python",
   "nbconvert_exporter": "python",
   "pygments_lexer": "ipython3",
   "version": "3.6.7"
  }
 },
 "nbformat": 4,
 "nbformat_minor": 2
}
